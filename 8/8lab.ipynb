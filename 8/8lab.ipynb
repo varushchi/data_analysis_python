{
 "cells": [
  {
   "cell_type": "markdown",
   "metadata": {},
   "source": [
    "Вариаант 21"
   ]
  },
  {
   "cell_type": "code",
   "execution_count": 52,
   "metadata": {},
   "outputs": [],
   "source": [
    "import numpy as np\n",
    "import matplotlib.pyplot as plt\n",
    "import pandas as pd\n",
    "import statsmodels.api as sm\n",
    "from sklearn.model_selection import train_test_split\n",
    "from sklearn.metrics import mean_squared_error"
   ]
  },
  {
   "cell_type": "code",
   "execution_count": 53,
   "metadata": {},
   "outputs": [],
   "source": [
    "file_data = pd.read_excel(\"./data8/Volgmed_2013.xlsx\", header=1)\n",
    "data = file_data[['Пол', 'Курс', 'Сила правой руки, кг', 'Рост, см', 'Сила левой руки, кг', 'Бег 100 м, с']]\n",
    "data = data.dropna()\n",
    "data = data.loc[((data['Пол'] == 'жен') | (data['Пол'] == 'жен.'))& (data['Курс'] == 1)]"
   ]
  },
  {
   "cell_type": "code",
   "execution_count": 54,
   "metadata": {},
   "outputs": [],
   "source": [
    "def clean_strings(data, column_name):\n",
    "    data =  data[pd.to_numeric(data[column_name], errors='coerce').notnull()]\n",
    "    data = data.dropna(axis=0, subset=column_name)\n",
    "    return data\n",
    "\n",
    "def clean_data(data, column_name):\n",
    "    data_arr = data[column_name].to_numpy()\n",
    "    q_025 = np.quantile(data_arr, 0.25)\n",
    "    q_075 = np.quantile(data_arr, 0.75)\n",
    "    iqd = q_075-q_025\n",
    "    upper_threshold = q_075+1.5*iqd\n",
    "    lower_threshold = q_025-1.5*iqd\n",
    "    data =  data.loc[ (data[column_name] <= upper_threshold) & (data[column_name] >= lower_threshold)]\n",
    "    return data\n",
    "\n",
    "data = clean_strings(data, 'Сила правой руки, кг')\n",
    "data = clean_strings(data, 'Сила левой руки, кг')\n",
    "data = clean_strings(data, 'Рост, см')\n",
    "data = clean_strings(data, 'Бег 100 м, с')\n",
    "\n",
    "data = clean_data(data, 'Сила правой руки, кг')\n",
    "data = clean_data(data, 'Сила левой руки, кг')\n",
    "data = clean_data(data, 'Рост, см')\n",
    "data = clean_data(data, 'Бег 100 м, с')"
   ]
  },
  {
   "cell_type": "code",
   "execution_count": 55,
   "metadata": {},
   "outputs": [
    {
     "name": "stdout",
     "output_type": "stream",
     "text": [
      "                            OLS Regression Results                            \n",
      "==============================================================================\n",
      "Dep. Variable:                      y   R-squared:                       0.647\n",
      "Model:                            OLS   Adj. R-squared:                  0.646\n",
      "Method:                 Least Squares   F-statistic:                     402.3\n",
      "Date:                Thu, 31 Oct 2024   Prob (F-statistic):          2.91e-148\n",
      "Time:                        19:12:12   Log-Likelihood:                -1906.5\n",
      "No. Observations:                 661   AIC:                             3821.\n",
      "Df Residuals:                     657   BIC:                             3839.\n",
      "Df Model:                           3                                         \n",
      "Covariance Type:            nonrobust                                         \n",
      "==============================================================================\n",
      "                 coef    std err          t      P>|t|      [0.025      0.975]\n",
      "------------------------------------------------------------------------------\n",
      "const         -7.3877      5.124     -1.442      0.150     -17.448       2.673\n",
      "x1             0.1141      0.027      4.152      0.000       0.060       0.168\n",
      "x2             0.7849      0.024     32.047      0.000       0.737       0.833\n",
      "x3            -0.2380      0.134     -1.771      0.077      -0.502       0.026\n",
      "==============================================================================\n",
      "Omnibus:                       30.301   Durbin-Watson:                   2.039\n",
      "Prob(Omnibus):                  0.000   Jarque-Bera (JB):               70.798\n",
      "Skew:                           0.213   Prob(JB):                     4.23e-16\n",
      "Kurtosis:                       4.545   Cond. No.                     5.09e+03\n",
      "==============================================================================\n",
      "\n",
      "Notes:\n",
      "[1] Standard Errors assume that the covariance matrix of the errors is correctly specified.\n",
      "[2] The condition number is large, 5.09e+03. This might indicate that there are\n",
      "strong multicollinearity or other numerical problems.\n",
      "Коэффициент детерминации 0.6474886835280549\n",
      "Коэффициенты с их оценкой пи-значений:\n",
      "Константа: -7.3877465027909865 (p-значение: 0.14981070045331302)\n",
      "Рост, см: 0.1141050528551908 (p-значение: 3.7314198481384135e-05)\n",
      "Сила левой руки, кг: 0.7848980642005077 (p-значение: 2.077981160517214e-136)\n",
      "Бег 100 м, с: -0.23803953304619796 (p-значение: 0.07709070092293639)\n"
     ]
    }
   ],
   "source": [
    "right = data['Сила правой руки, кг'].to_numpy(dtype=float)\n",
    "X1 = sm.add_constant(data['Рост, см'].to_numpy(dtype=float))\n",
    "X2 = np.column_stack((X1, data['Сила левой руки, кг'].to_numpy(dtype=float)))\n",
    "X3 = np.column_stack((X2, data['Бег 100 м, с'].to_numpy(dtype=float)))\n",
    "model = sm.OLS(right, X3)\n",
    "res = model.fit()\n",
    "print(res.summary())\n",
    "print('Коэффициент детерминации', res.rsquared)\n",
    "print('Коэффициенты с их оценкой пи-значений:')\n",
    "names = ['Константа', 'Рост, см', 'Сила левой руки, кг', 'Бег 100 м, с']\n",
    "params_to_delete = []\n",
    "for i in range(len(res.params)):\n",
    "    print(f\"{names[i]}: {res.params[i]} (p-значение: {res.pvalues[i]})\")\n",
    "    if(res.pvalues[i] > 0.05):\n",
    "        params_to_delete.append(i)"
   ]
  },
  {
   "cell_type": "code",
   "execution_count": 56,
   "metadata": {},
   "outputs": [
    {
     "name": "stdout",
     "output_type": "stream",
     "text": [
      "                                 OLS Regression Results                                \n",
      "=======================================================================================\n",
      "Dep. Variable:                      y   R-squared (uncentered):                   0.971\n",
      "Model:                            OLS   Adj. R-squared (uncentered):              0.971\n",
      "Method:                 Least Squares   F-statistic:                          1.115e+04\n",
      "Date:                Thu, 31 Oct 2024   Prob (F-statistic):                        0.00\n",
      "Time:                        19:12:12   Log-Likelihood:                         -1911.7\n",
      "No. Observations:                 661   AIC:                                      3827.\n",
      "Df Residuals:                     659   BIC:                                      3836.\n",
      "Df Model:                           2                                                  \n",
      "Covariance Type:            nonrobust                                                  \n",
      "==============================================================================\n",
      "                 coef    std err          t      P>|t|      [0.025      0.975]\n",
      "------------------------------------------------------------------------------\n",
      "x1             0.0430      0.003     12.613      0.000       0.036       0.050\n",
      "x2             0.7974      0.024     32.777      0.000       0.750       0.845\n",
      "==============================================================================\n",
      "Omnibus:                       33.681   Durbin-Watson:                   2.043\n",
      "Prob(Omnibus):                  0.000   Jarque-Bera (JB):               75.936\n",
      "Skew:                           0.269   Prob(JB):                     3.24e-17\n",
      "Kurtosis:                       4.571   Cond. No.                         24.1\n",
      "==============================================================================\n",
      "\n",
      "Notes:\n",
      "[1] R² is computed without centering (uncentered) since the model does not contain a constant.\n",
      "[2] Standard Errors assume that the covariance matrix of the errors is correctly specified.\n",
      "Коэффициент детерминации 0.971303706336969\n",
      "Коэффициенты с их оценкой пи-значений:\n",
      "Рост, см: 0.04304136373163832 (p-значение: 7.92247675316818e-33)\n",
      "Сила левой руки, кг: 0.7974448841516509 (p-значение: 1.6109303624131936e-140)\n"
     ]
    }
   ],
   "source": [
    "for p in params_to_delete[::-1]:\n",
    "    X3 = np.delete(X3, p, axis=1)\n",
    "    names = np.delete(names, p, axis=None)\n",
    "model = sm.OLS(right, X3)\n",
    "res = model.fit()\n",
    "print(res.summary())\n",
    "print('Коэффициент детерминации', res.rsquared)\n",
    "print('Коэффициенты с их оценкой пи-значений:')\n",
    "for i in range(len(res.params)):\n",
    "    print(f\"{names[i]}: {res.params[i]} (p-значение: {res.pvalues[i]})\")"
   ]
  },
  {
   "cell_type": "code",
   "execution_count": 57,
   "metadata": {},
   "outputs": [
    {
     "name": "stdout",
     "output_type": "stream",
     "text": [
      "Выборочная дисперсия регрессионных остатков: 19.06430341200613\n",
      "Среднее значение квадрата отклонения по контрольной группе: 19.337736029180782\n",
      "Отношение MSE к выборочной дисперсии остатков: 1.0143426492573788\n"
     ]
    }
   ],
   "source": [
    "residuals = res.resid\n",
    "sample_variance = np.var(residuals, ddof=1)\n",
    "print(f'Выборочная дисперсия регрессионных остатков: {sample_variance}')\n",
    "\n",
    "n_iterations = 200\n",
    "mse_list = []\n",
    "\n",
    "for _ in range(n_iterations):\n",
    "    X_train, X_test, y_train, y_test = train_test_split(X3, right, test_size=0.2)\n",
    "\n",
    "    model_cv = sm.OLS(y_train.astype(np.float64), X_train.astype(np.float64)).fit()\n",
    "    predictions = model_cv.predict(X_test)\n",
    "\n",
    "    mse = mean_squared_error(y_test, predictions)\n",
    "    mse_list.append(mse)\n",
    "\n",
    "mean_mse = np.mean(mse_list)\n",
    "print(f'Среднее значение квадрата отклонения по контрольной группе: {mean_mse}')\n",
    "print(f'Отношение MSE к выборочной дисперсии остатков: {mean_mse / sample_variance}')"
   ]
  }
 ],
 "metadata": {
  "kernelspec": {
   "display_name": "Python 3",
   "language": "python",
   "name": "python3"
  },
  "language_info": {
   "codemirror_mode": {
    "name": "ipython",
    "version": 3
   },
   "file_extension": ".py",
   "mimetype": "text/x-python",
   "name": "python",
   "nbconvert_exporter": "python",
   "pygments_lexer": "ipython3",
   "version": "3.12.3"
  }
 },
 "nbformat": 4,
 "nbformat_minor": 2
}
