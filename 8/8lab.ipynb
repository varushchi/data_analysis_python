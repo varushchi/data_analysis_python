{
 "cells": [
  {
   "cell_type": "markdown",
   "metadata": {},
   "source": [
    "Вариаант 21"
   ]
  },
  {
   "cell_type": "code",
   "execution_count": 26,
   "metadata": {},
   "outputs": [],
   "source": [
    "import numpy as np\n",
    "import matplotlib.pyplot as plt\n",
    "import pandas as pd\n",
    "import statsmodels.api as sm\n",
    "from sklearn.model_selection import train_test_split\n",
    "from sklearn.metrics import mean_squared_error"
   ]
  },
  {
   "cell_type": "code",
   "execution_count": null,
   "metadata": {},
   "outputs": [],
   "source": [
    "file_data = pd.read_excel(\"./data8/Volgmed_2013.xlsx\", header=1)\n",
    "data = file_data[['Пол', 'Курс', 'Сила правой руки, кг', 'Рост, см', 'Сила левой руки, кг', 'Бег 100 м, с']]\n",
    "data = data.dropna()\n",
    "data = data.loc[((data['Пол'] == 'жен') | (data['Пол'] == 'жен.'))& (data['Курс'] == 1)]\n",
    "data"
   ]
  },
  {
   "cell_type": "code",
   "execution_count": 22,
   "metadata": {},
   "outputs": [],
   "source": [
    "def clean_strings(data, column_name):\n",
    "    data =  data[pd.to_numeric(data[column_name], errors='coerce').notnull()]\n",
    "    data = data.dropna(axis=0, subset=column_name)\n",
    "    return data\n",
    "\n",
    "def clean_data(data, column_name):\n",
    "    data_arr = data[column_name].to_numpy()\n",
    "    q_025 = np.quantile(data_arr, 0.25)\n",
    "    q_075 = np.quantile(data_arr, 0.75)\n",
    "    iqd = q_075-q_025\n",
    "    upper_threshold = q_075+1.5*iqd\n",
    "    lower_threshold = q_025-1.5*iqd\n",
    "    data =  data.loc[ (data[column_name] <= upper_threshold) & (data[column_name] >= lower_threshold)]\n",
    "    return data\n",
    "\n",
    "data = clean_strings(data, 'Сила правой руки, кг')\n",
    "data = clean_strings(data, 'Сила левой руки, кг')\n",
    "data = clean_strings(data, 'Рост, см')\n",
    "data = clean_strings(data, 'Бег 100 м, с')\n",
    "\n",
    "data = clean_data(data, 'Сила правой руки, кг')\n",
    "data = clean_data(data, 'Сила левой руки, кг')\n",
    "data = clean_data(data, 'Рост, см')\n",
    "data = clean_data(data, 'Бег 100 м, с')"
   ]
  },
  {
   "cell_type": "code",
   "execution_count": 23,
   "metadata": {},
   "outputs": [
    {
     "name": "stdout",
     "output_type": "stream",
     "text": [
      "                            OLS Regression Results                            \n",
      "==============================================================================\n",
      "Dep. Variable:                      y   R-squared:                       0.647\n",
      "Model:                            OLS   Adj. R-squared:                  0.646\n",
      "Method:                 Least Squares   F-statistic:                     402.3\n",
      "Date:                Thu, 31 Oct 2024   Prob (F-statistic):          2.91e-148\n",
      "Time:                        18:53:51   Log-Likelihood:                -1906.5\n",
      "No. Observations:                 661   AIC:                             3821.\n",
      "Df Residuals:                     657   BIC:                             3839.\n",
      "Df Model:                           3                                         \n",
      "Covariance Type:            nonrobust                                         \n",
      "==============================================================================\n",
      "                 coef    std err          t      P>|t|      [0.025      0.975]\n",
      "------------------------------------------------------------------------------\n",
      "const         -7.3877      5.124     -1.442      0.150     -17.448       2.673\n",
      "x1             0.1141      0.027      4.152      0.000       0.060       0.168\n",
      "x2             0.7849      0.024     32.047      0.000       0.737       0.833\n",
      "x3            -0.2380      0.134     -1.771      0.077      -0.502       0.026\n",
      "==============================================================================\n",
      "Omnibus:                       30.301   Durbin-Watson:                   2.039\n",
      "Prob(Omnibus):                  0.000   Jarque-Bera (JB):               70.798\n",
      "Skew:                           0.213   Prob(JB):                     4.23e-16\n",
      "Kurtosis:                       4.545   Cond. No.                     5.09e+03\n",
      "==============================================================================\n",
      "\n",
      "Notes:\n",
      "[1] Standard Errors assume that the covariance matrix of the errors is correctly specified.\n",
      "[2] The condition number is large, 5.09e+03. This might indicate that there are\n",
      "strong multicollinearity or other numerical problems.\n",
      "Коэффициент детерминации 0.6474886835280549\n",
      "Коэффициенты с их оценкой пи-значений:\n",
      "Константа: -7.3877465027909865 (p-значение: 0.14981070045331302)\n",
      "Рост, см: 0.1141050528551908 (p-значение: 3.7314198481384135e-05)\n",
      "Сила левой руки, кг: 0.7848980642005077 (p-значение: 2.077981160517214e-136)\n",
      "Бег 100 м, с: -0.23803953304619796 (p-значение: 0.07709070092293639)\n"
     ]
    }
   ],
   "source": [
    "right = data['Сила правой руки, кг'].to_numpy(dtype=float)\n",
    "X1 = sm.add_constant(data['Рост, см'].to_numpy(dtype=float))\n",
    "X2 = np.column_stack((X1, data['Сила левой руки, кг'].to_numpy(dtype=float)))\n",
    "X3 = np.column_stack((X2, data['Бег 100 м, с'].to_numpy(dtype=float)))\n",
    "model = sm.OLS(right, X3)\n",
    "res = model.fit()\n",
    "print(res.summary())\n",
    "print('Коэффициент детерминации', res.rsquared)\n",
    "print('Коэффициенты с их оценкой пи-значений:')\n",
    "names = ['Константа', 'Рост, см', 'Сила левой руки, кг', 'Бег 100 м, с']\n",
    "params_to_delete = []\n",
    "for i in range(len(res.params)):\n",
    "    print(f\"{names[i]}: {res.params[i]} (p-значение: {res.pvalues[i]})\")\n",
    "    if(res.pvalues[i] > 0.05):\n",
    "        params_to_delete.append(i)"
   ]
  },
  {
   "cell_type": "code",
   "execution_count": 25,
   "metadata": {},
   "outputs": [
    {
     "name": "stdout",
     "output_type": "stream",
     "text": [
      "[[176.   34.   17.7]\n",
      " [166.   18.   18.7]\n",
      " [167.   28.   15. ]\n",
      " ...\n",
      " [162.5  23.   16.4]\n",
      " [158.   15.   17.1]\n",
      " [168.2  21.   18.8]]\n",
      "[-1, 2]\n",
      "['Рост, см' 'Сила левой руки, кг' 'Бег 100 м, с']\n",
      "['Рост, см' 'Сила левой руки, кг']\n"
     ]
    },
    {
     "ename": "IndexError",
     "evalue": "index 2 is out of bounds for axis 1 with size 2",
     "output_type": "error",
     "traceback": [
      "\u001b[1;31m---------------------------------------------------------------------------\u001b[0m",
      "\u001b[1;31mIndexError\u001b[0m                                Traceback (most recent call last)",
      "Cell \u001b[1;32mIn[25], line 5\u001b[0m\n\u001b[0;32m      3\u001b[0m \u001b[38;5;28;01mfor\u001b[39;00m p \u001b[38;5;129;01min\u001b[39;00m params_to_delete:\n\u001b[0;32m      4\u001b[0m     \u001b[38;5;28mprint\u001b[39m(names)\n\u001b[1;32m----> 5\u001b[0m     X3 \u001b[38;5;241m=\u001b[39m \u001b[43mnp\u001b[49m\u001b[38;5;241;43m.\u001b[39;49m\u001b[43mdelete\u001b[49m\u001b[43m(\u001b[49m\u001b[43mX3\u001b[49m\u001b[43m,\u001b[49m\u001b[43m \u001b[49m\u001b[43mp\u001b[49m\u001b[43m,\u001b[49m\u001b[43m \u001b[49m\u001b[43maxis\u001b[49m\u001b[38;5;241;43m=\u001b[39;49m\u001b[38;5;241;43m1\u001b[39;49m\u001b[43m)\u001b[49m\n\u001b[0;32m      6\u001b[0m     names \u001b[38;5;241m=\u001b[39m np\u001b[38;5;241m.\u001b[39mdelete(names, p, axis\u001b[38;5;241m=\u001b[39m\u001b[38;5;28;01mNone\u001b[39;00m)\n\u001b[0;32m      7\u001b[0m     params_to_delete \u001b[38;5;241m=\u001b[39m \u001b[38;5;28mlist\u001b[39m(np\u001b[38;5;241m.\u001b[39masarray(params_to_delete) \u001b[38;5;241m-\u001b[39m \u001b[38;5;241m1\u001b[39m)\n",
      "File \u001b[1;32mc:\\Users\\vadim\\AppData\\Local\\Programs\\Python\\Python312\\Lib\\site-packages\\numpy\\lib\\_function_base_impl.py:5388\u001b[0m, in \u001b[0;36mdelete\u001b[1;34m(arr, obj, axis)\u001b[0m\n\u001b[0;32m   5385\u001b[0m \u001b[38;5;28;01mif\u001b[39;00m single_value:\n\u001b[0;32m   5386\u001b[0m     \u001b[38;5;66;03m# optimization for a single value\u001b[39;00m\n\u001b[0;32m   5387\u001b[0m     \u001b[38;5;28;01mif\u001b[39;00m (obj \u001b[38;5;241m<\u001b[39m \u001b[38;5;241m-\u001b[39mN \u001b[38;5;129;01mor\u001b[39;00m obj \u001b[38;5;241m>\u001b[39m\u001b[38;5;241m=\u001b[39m N):\n\u001b[1;32m-> 5388\u001b[0m         \u001b[38;5;28;01mraise\u001b[39;00m \u001b[38;5;167;01mIndexError\u001b[39;00m(\n\u001b[0;32m   5389\u001b[0m             \u001b[38;5;124m\"\u001b[39m\u001b[38;5;124mindex \u001b[39m\u001b[38;5;132;01m%i\u001b[39;00m\u001b[38;5;124m is out of bounds for axis \u001b[39m\u001b[38;5;132;01m%i\u001b[39;00m\u001b[38;5;124m with \u001b[39m\u001b[38;5;124m\"\u001b[39m\n\u001b[0;32m   5390\u001b[0m             \u001b[38;5;124m\"\u001b[39m\u001b[38;5;124msize \u001b[39m\u001b[38;5;132;01m%i\u001b[39;00m\u001b[38;5;124m\"\u001b[39m \u001b[38;5;241m%\u001b[39m (obj, axis, N))\n\u001b[0;32m   5391\u001b[0m     \u001b[38;5;28;01mif\u001b[39;00m (obj \u001b[38;5;241m<\u001b[39m \u001b[38;5;241m0\u001b[39m):\n\u001b[0;32m   5392\u001b[0m         obj \u001b[38;5;241m+\u001b[39m\u001b[38;5;241m=\u001b[39m N\n",
      "\u001b[1;31mIndexError\u001b[0m: index 2 is out of bounds for axis 1 with size 2"
     ]
    }
   ],
   "source": [
    "print(X3)\n",
    "print(params_to_delete)\n",
    "for p in params_to_delete:\n",
    "    print(names)\n",
    "    X3 = np.delete(X3, p, axis=1)\n",
    "    names = np.delete(names, p, axis=None)\n",
    "    params_to_delete = list(np.asarray(params_to_delete) - 1)\n",
    "\n",
    "model = sm.OLS(right, X3)\n",
    "res = model.fit()\n",
    "print(res.summary())\n",
    "print('Коэффициент детерминации', res.rsquared)\n",
    "print('Коэффициенты с их оценкой пи-значений:')\n",
    "for i in range(len(res.params)):\n",
    "    print(f\"{names[i]}: {res.params[i]} (p-значение: {res.pvalues[i]})\")"
   ]
  },
  {
   "cell_type": "code",
   "execution_count": 19,
   "metadata": {},
   "outputs": [
    {
     "ename": "ValueError",
     "evalue": "Shape of passed values is (528, 2), indices imply (528, 3)",
     "output_type": "error",
     "traceback": [
      "\u001b[1;31m---------------------------------------------------------------------------\u001b[0m",
      "\u001b[1;31mValueError\u001b[0m                                Traceback (most recent call last)",
      "Cell \u001b[1;32mIn[19], line 7\u001b[0m\n\u001b[0;32m      5\u001b[0m \u001b[38;5;28;01mfor\u001b[39;00m i \u001b[38;5;129;01min\u001b[39;00m \u001b[38;5;28mrange\u001b[39m(\u001b[38;5;241m200\u001b[39m): \n\u001b[0;32m      6\u001b[0m     X_train, X_test, y_train, y_test \u001b[38;5;241m=\u001b[39m train_test_split(X3, right, test_size\u001b[38;5;241m=\u001b[39m\u001b[38;5;241m0.2\u001b[39m)\n\u001b[1;32m----> 7\u001b[0m     X_train_df \u001b[38;5;241m=\u001b[39m \u001b[43mpd\u001b[49m\u001b[38;5;241;43m.\u001b[39;49m\u001b[43mDataFrame\u001b[49m\u001b[43m(\u001b[49m\u001b[43mX_train\u001b[49m\u001b[43m,\u001b[49m\u001b[43m \u001b[49m\u001b[43mcolumns\u001b[49m\u001b[38;5;241;43m=\u001b[39;49m\u001b[43m[\u001b[49m\u001b[38;5;124;43m'\u001b[39;49m\u001b[38;5;124;43mРост, см\u001b[39;49m\u001b[38;5;124;43m'\u001b[39;49m\u001b[43m,\u001b[49m\u001b[43m \u001b[49m\u001b[38;5;124;43m'\u001b[39;49m\u001b[38;5;124;43mСила левой руки, кг\u001b[39;49m\u001b[38;5;124;43m'\u001b[39;49m\u001b[43m,\u001b[49m\u001b[43m \u001b[49m\u001b[38;5;124;43m'\u001b[39;49m\u001b[38;5;124;43mБег 100 м, с\u001b[39;49m\u001b[38;5;124;43m'\u001b[39;49m\u001b[43m]\u001b[49m\u001b[43m)\u001b[49m \n\u001b[0;32m      8\u001b[0m     X_test_df \u001b[38;5;241m=\u001b[39m pd\u001b[38;5;241m.\u001b[39mDataFrame(X_test, columns\u001b[38;5;241m=\u001b[39m[\u001b[38;5;124m'\u001b[39m\u001b[38;5;124mРост, см\u001b[39m\u001b[38;5;124m'\u001b[39m, \u001b[38;5;124m'\u001b[39m\u001b[38;5;124mСила левой руки, кг\u001b[39m\u001b[38;5;124m'\u001b[39m, \u001b[38;5;124m'\u001b[39m\u001b[38;5;124mБег 100 м, с\u001b[39m\u001b[38;5;124m'\u001b[39m]) \n\u001b[0;32m      9\u001b[0m     model \u001b[38;5;241m=\u001b[39m sm\u001b[38;5;241m.\u001b[39mOLS(y_train, X_train_df)\n",
      "File \u001b[1;32mc:\\Users\\vadim\\AppData\\Local\\Programs\\Python\\Python312\\Lib\\site-packages\\pandas\\core\\frame.py:827\u001b[0m, in \u001b[0;36mDataFrame.__init__\u001b[1;34m(self, data, index, columns, dtype, copy)\u001b[0m\n\u001b[0;32m    816\u001b[0m         mgr \u001b[38;5;241m=\u001b[39m dict_to_mgr(\n\u001b[0;32m    817\u001b[0m             \u001b[38;5;66;03m# error: Item \"ndarray\" of \"Union[ndarray, Series, Index]\" has no\u001b[39;00m\n\u001b[0;32m    818\u001b[0m             \u001b[38;5;66;03m# attribute \"name\"\u001b[39;00m\n\u001b[1;32m   (...)\u001b[0m\n\u001b[0;32m    824\u001b[0m             copy\u001b[38;5;241m=\u001b[39m_copy,\n\u001b[0;32m    825\u001b[0m         )\n\u001b[0;32m    826\u001b[0m     \u001b[38;5;28;01melse\u001b[39;00m:\n\u001b[1;32m--> 827\u001b[0m         mgr \u001b[38;5;241m=\u001b[39m \u001b[43mndarray_to_mgr\u001b[49m\u001b[43m(\u001b[49m\n\u001b[0;32m    828\u001b[0m \u001b[43m            \u001b[49m\u001b[43mdata\u001b[49m\u001b[43m,\u001b[49m\n\u001b[0;32m    829\u001b[0m \u001b[43m            \u001b[49m\u001b[43mindex\u001b[49m\u001b[43m,\u001b[49m\n\u001b[0;32m    830\u001b[0m \u001b[43m            \u001b[49m\u001b[43mcolumns\u001b[49m\u001b[43m,\u001b[49m\n\u001b[0;32m    831\u001b[0m \u001b[43m            \u001b[49m\u001b[43mdtype\u001b[49m\u001b[38;5;241;43m=\u001b[39;49m\u001b[43mdtype\u001b[49m\u001b[43m,\u001b[49m\n\u001b[0;32m    832\u001b[0m \u001b[43m            \u001b[49m\u001b[43mcopy\u001b[49m\u001b[38;5;241;43m=\u001b[39;49m\u001b[43mcopy\u001b[49m\u001b[43m,\u001b[49m\n\u001b[0;32m    833\u001b[0m \u001b[43m            \u001b[49m\u001b[43mtyp\u001b[49m\u001b[38;5;241;43m=\u001b[39;49m\u001b[43mmanager\u001b[49m\u001b[43m,\u001b[49m\n\u001b[0;32m    834\u001b[0m \u001b[43m        \u001b[49m\u001b[43m)\u001b[49m\n\u001b[0;32m    836\u001b[0m \u001b[38;5;66;03m# For data is list-like, or Iterable (will consume into list)\u001b[39;00m\n\u001b[0;32m    837\u001b[0m \u001b[38;5;28;01melif\u001b[39;00m is_list_like(data):\n",
      "File \u001b[1;32mc:\\Users\\vadim\\AppData\\Local\\Programs\\Python\\Python312\\Lib\\site-packages\\pandas\\core\\internals\\construction.py:336\u001b[0m, in \u001b[0;36mndarray_to_mgr\u001b[1;34m(values, index, columns, dtype, copy, typ)\u001b[0m\n\u001b[0;32m    331\u001b[0m \u001b[38;5;66;03m# _prep_ndarraylike ensures that values.ndim == 2 at this point\u001b[39;00m\n\u001b[0;32m    332\u001b[0m index, columns \u001b[38;5;241m=\u001b[39m _get_axes(\n\u001b[0;32m    333\u001b[0m     values\u001b[38;5;241m.\u001b[39mshape[\u001b[38;5;241m0\u001b[39m], values\u001b[38;5;241m.\u001b[39mshape[\u001b[38;5;241m1\u001b[39m], index\u001b[38;5;241m=\u001b[39mindex, columns\u001b[38;5;241m=\u001b[39mcolumns\n\u001b[0;32m    334\u001b[0m )\n\u001b[1;32m--> 336\u001b[0m \u001b[43m_check_values_indices_shape_match\u001b[49m\u001b[43m(\u001b[49m\u001b[43mvalues\u001b[49m\u001b[43m,\u001b[49m\u001b[43m \u001b[49m\u001b[43mindex\u001b[49m\u001b[43m,\u001b[49m\u001b[43m \u001b[49m\u001b[43mcolumns\u001b[49m\u001b[43m)\u001b[49m\n\u001b[0;32m    338\u001b[0m \u001b[38;5;28;01mif\u001b[39;00m typ \u001b[38;5;241m==\u001b[39m \u001b[38;5;124m\"\u001b[39m\u001b[38;5;124marray\u001b[39m\u001b[38;5;124m\"\u001b[39m:\n\u001b[0;32m    339\u001b[0m     \u001b[38;5;28;01mif\u001b[39;00m \u001b[38;5;28missubclass\u001b[39m(values\u001b[38;5;241m.\u001b[39mdtype\u001b[38;5;241m.\u001b[39mtype, \u001b[38;5;28mstr\u001b[39m):\n",
      "File \u001b[1;32mc:\\Users\\vadim\\AppData\\Local\\Programs\\Python\\Python312\\Lib\\site-packages\\pandas\\core\\internals\\construction.py:420\u001b[0m, in \u001b[0;36m_check_values_indices_shape_match\u001b[1;34m(values, index, columns)\u001b[0m\n\u001b[0;32m    418\u001b[0m passed \u001b[38;5;241m=\u001b[39m values\u001b[38;5;241m.\u001b[39mshape\n\u001b[0;32m    419\u001b[0m implied \u001b[38;5;241m=\u001b[39m (\u001b[38;5;28mlen\u001b[39m(index), \u001b[38;5;28mlen\u001b[39m(columns))\n\u001b[1;32m--> 420\u001b[0m \u001b[38;5;28;01mraise\u001b[39;00m \u001b[38;5;167;01mValueError\u001b[39;00m(\u001b[38;5;124mf\u001b[39m\u001b[38;5;124m\"\u001b[39m\u001b[38;5;124mShape of passed values is \u001b[39m\u001b[38;5;132;01m{\u001b[39;00mpassed\u001b[38;5;132;01m}\u001b[39;00m\u001b[38;5;124m, indices imply \u001b[39m\u001b[38;5;132;01m{\u001b[39;00mimplied\u001b[38;5;132;01m}\u001b[39;00m\u001b[38;5;124m\"\u001b[39m)\n",
      "\u001b[1;31mValueError\u001b[0m: Shape of passed values is (528, 2), indices imply (528, 3)"
     ]
    }
   ],
   "source": [
    "residuals = res.resid\n",
    "sample_variance = np.var(residuals, ddof=1)\n",
    "\n",
    "mse_list = []\n",
    "for i in range(200): \n",
    "    X_train, X_test, y_train, y_test = train_test_split(X3, right, test_size=0.2)\n",
    "    X_train_df = pd.DataFrame(X_train, columns=['Рост, см', 'Сила левой руки, кг', 'Бег 100 м, с']) \n",
    "    X_test_df = pd.DataFrame(X_test, columns=['Рост, см', 'Сила левой руки, кг', 'Бег 100 м, с']) \n",
    "    model = sm.OLS(y_train, X_train_df)\n",
    "    model = model.fit()\n",
    "    y_pred = model.predict(X_test_df)\n",
    "    mse = mean_squared_error(y_test, y_pred)\n",
    "    mse_list.append(mse)\n",
    "mean_mse = np.mean(mse_list)\n",
    "residuals = model.resid\n",
    "sample_variance = np.var(residuals, ddof=1)\n",
    "print(f\"Среднее значение квадрата отклонения: {mean_mse}\")\n",
    "print(f\"Выборочная дисперсия остатков: {sample_variance}\")\n",
    "print(f\"Отношение MSE к выборочной дисперсии: {mean_mse / sample_variance}\")"
   ]
  }
 ],
 "metadata": {
  "kernelspec": {
   "display_name": "Python 3",
   "language": "python",
   "name": "python3"
  },
  "language_info": {
   "codemirror_mode": {
    "name": "ipython",
    "version": 3
   },
   "file_extension": ".py",
   "mimetype": "text/x-python",
   "name": "python",
   "nbconvert_exporter": "python",
   "pygments_lexer": "ipython3",
   "version": "3.12.5"
  }
 },
 "nbformat": 4,
 "nbformat_minor": 2
}
