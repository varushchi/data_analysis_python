{
 "cells": [
  {
   "cell_type": "markdown",
   "metadata": {},
   "source": [
    "Вариант 21"
   ]
  },
  {
   "cell_type": "code",
   "execution_count": 24,
   "metadata": {},
   "outputs": [],
   "source": [
    "import numpy as np\n",
    "import pandas as pd\n",
    "import matplotlib.pyplot as plt\n",
    "import seaborn as sns\n",
    "from scipy.stats import norm\n",
    "from scipy import stats\n",
    "import statsmodels.api as sm"
   ]
  },
  {
   "cell_type": "code",
   "execution_count": 25,
   "metadata": {},
   "outputs": [
    {
     "data": {
      "text/html": [
       "<div>\n",
       "<style scoped>\n",
       "    .dataframe tbody tr th:only-of-type {\n",
       "        vertical-align: middle;\n",
       "    }\n",
       "\n",
       "    .dataframe tbody tr th {\n",
       "        vertical-align: top;\n",
       "    }\n",
       "\n",
       "    .dataframe thead th {\n",
       "        text-align: right;\n",
       "    }\n",
       "</style>\n",
       "<table border=\"1\" class=\"dataframe\">\n",
       "  <thead>\n",
       "    <tr style=\"text-align: right;\">\n",
       "      <th></th>\n",
       "      <th>Пол</th>\n",
       "      <th>Курс</th>\n",
       "      <th>Сила левой руки, кг</th>\n",
       "      <th>Сила правой руки, кг</th>\n",
       "    </tr>\n",
       "  </thead>\n",
       "  <tbody>\n",
       "    <tr>\n",
       "      <th>0</th>\n",
       "      <td>жен</td>\n",
       "      <td>1.0</td>\n",
       "      <td>34.0</td>\n",
       "      <td>32.0</td>\n",
       "    </tr>\n",
       "    <tr>\n",
       "      <th>8</th>\n",
       "      <td>жен</td>\n",
       "      <td>1.0</td>\n",
       "      <td>18.0</td>\n",
       "      <td>18.0</td>\n",
       "    </tr>\n",
       "    <tr>\n",
       "      <th>11</th>\n",
       "      <td>жен</td>\n",
       "      <td>1.0</td>\n",
       "      <td>28.0</td>\n",
       "      <td>32.0</td>\n",
       "    </tr>\n",
       "    <tr>\n",
       "      <th>14</th>\n",
       "      <td>жен</td>\n",
       "      <td>1.0</td>\n",
       "      <td>22.0</td>\n",
       "      <td>24.0</td>\n",
       "    </tr>\n",
       "    <tr>\n",
       "      <th>17</th>\n",
       "      <td>жен</td>\n",
       "      <td>1.0</td>\n",
       "      <td>16.0</td>\n",
       "      <td>20.0</td>\n",
       "    </tr>\n",
       "    <tr>\n",
       "      <th>...</th>\n",
       "      <td>...</td>\n",
       "      <td>...</td>\n",
       "      <td>...</td>\n",
       "      <td>...</td>\n",
       "    </tr>\n",
       "    <tr>\n",
       "      <th>3949</th>\n",
       "      <td>жен</td>\n",
       "      <td>1.0</td>\n",
       "      <td>24.0</td>\n",
       "      <td>21.0</td>\n",
       "    </tr>\n",
       "    <tr>\n",
       "      <th>3953</th>\n",
       "      <td>жен</td>\n",
       "      <td>1.0</td>\n",
       "      <td>19.0</td>\n",
       "      <td>20.0</td>\n",
       "    </tr>\n",
       "    <tr>\n",
       "      <th>3955</th>\n",
       "      <td>жен</td>\n",
       "      <td>1.0</td>\n",
       "      <td>23.0</td>\n",
       "      <td>19.0</td>\n",
       "    </tr>\n",
       "    <tr>\n",
       "      <th>3957</th>\n",
       "      <td>жен</td>\n",
       "      <td>1.0</td>\n",
       "      <td>15.0</td>\n",
       "      <td>18.0</td>\n",
       "    </tr>\n",
       "    <tr>\n",
       "      <th>3959</th>\n",
       "      <td>жен</td>\n",
       "      <td>1.0</td>\n",
       "      <td>21.0</td>\n",
       "      <td>17.0</td>\n",
       "    </tr>\n",
       "  </tbody>\n",
       "</table>\n",
       "<p>750 rows × 4 columns</p>\n",
       "</div>"
      ],
      "text/plain": [
       "      Пол  Курс  Сила левой руки, кг  Сила правой руки, кг\n",
       "0     жен   1.0                 34.0                  32.0\n",
       "8     жен   1.0                 18.0                  18.0\n",
       "11    жен   1.0                 28.0                  32.0\n",
       "14    жен   1.0                 22.0                  24.0\n",
       "17    жен   1.0                 16.0                  20.0\n",
       "...   ...   ...                  ...                   ...\n",
       "3949  жен   1.0                 24.0                  21.0\n",
       "3953  жен   1.0                 19.0                  20.0\n",
       "3955  жен   1.0                 23.0                  19.0\n",
       "3957  жен   1.0                 15.0                  18.0\n",
       "3959  жен   1.0                 21.0                  17.0\n",
       "\n",
       "[750 rows x 4 columns]"
      ]
     },
     "execution_count": 25,
     "metadata": {},
     "output_type": "execute_result"
    }
   ],
   "source": [
    "data = pd.read_excel(\"./data8/Volgmed_2013.xlsx\", header=1)[['Пол', 'Курс', 'Сила левой руки, кг', 'Сила правой руки, кг']]\n",
    "data = data.dropna()\n",
    "data = data.loc[((data['Пол'] == 'жен') | (data['Пол'] == 'жен.'))& (data['Курс'] == 1)]\n",
    "data = data[pd.to_numeric(data['Сила левой руки, кг'], errors='coerce').notnull()]\n",
    "data = data[pd.to_numeric(data['Сила правой руки, кг'], errors='coerce').notnull()]\n",
    "data"
   ]
  },
  {
   "cell_type": "code",
   "execution_count": 26,
   "metadata": {},
   "outputs": [],
   "source": [
    "left_arr = data['Сила левой руки, кг'].to_numpy()\n",
    "q_025 = np.quantile(left_arr, 0.25)\n",
    "q_075 = np.quantile(left_arr, 0.75)\n",
    "iqd = q_075-q_025\n",
    "upper_threshold = q_075+1.5*iqd\n",
    "lower_threshold = q_025-1.5*iqd\n",
    "\n",
    "data =  data.loc[ (data['Сила левой руки, кг'] <= upper_threshold) & (data['Сила левой руки, кг'] >= lower_threshold)]"
   ]
  },
  {
   "cell_type": "code",
   "execution_count": 27,
   "metadata": {},
   "outputs": [],
   "source": [
    "right_arr = data['Сила правой руки, кг'].to_numpy()\n",
    "q_025 = np.quantile(right_arr, 0.25)\n",
    "q_075 = np.quantile(right_arr, 0.75)\n",
    "iqd = q_075-q_025\n",
    "upper_threshold = q_075+1.5*iqd\n",
    "lower_threshold = q_025-1.5*iqd\n",
    "\n",
    "data =  data.loc[ (data['Сила правой руки, кг'] <= upper_threshold) & (data['Сила правой руки, кг'] >= lower_threshold)]"
   ]
  },
  {
   "cell_type": "markdown",
   "metadata": {},
   "source": [
    "Найти коэффициенты простой линейной регрессии с их пи-значениями и коэффициент детерминации."
   ]
  },
  {
   "cell_type": "code",
   "execution_count": 28,
   "metadata": {},
   "outputs": [
    {
     "name": "stdout",
     "output_type": "stream",
     "text": [
      "                            OLS Regression Results                            \n",
      "==============================================================================\n",
      "Dep. Variable:                      y   R-squared:                       0.654\n",
      "Model:                            OLS   Adj. R-squared:                  0.653\n",
      "Method:                 Least Squares   F-statistic:                     1388.\n",
      "Date:                Thu, 31 Oct 2024   Prob (F-statistic):          1.91e-171\n",
      "Time:                        17:23:15   Log-Likelihood:                -2110.8\n",
      "No. Observations:                 737   AIC:                             4226.\n",
      "Df Residuals:                     735   BIC:                             4235.\n",
      "Df Model:                           1                                         \n",
      "Covariance Type:            nonrobust                                         \n",
      "==============================================================================\n",
      "                 coef    std err          t      P>|t|      [0.025      0.975]\n",
      "------------------------------------------------------------------------------\n",
      "const          2.4890      0.540      4.613      0.000       1.430       3.548\n",
      "x1             0.7888      0.021     37.253      0.000       0.747       0.830\n",
      "==============================================================================\n",
      "Omnibus:                       22.853   Durbin-Watson:                   2.002\n",
      "Prob(Omnibus):                  0.000   Jarque-Bera (JB):               44.828\n",
      "Skew:                          -0.165   Prob(JB):                     1.84e-10\n",
      "Kurtosis:                       4.162   Cond. No.                         88.0\n",
      "==============================================================================\n",
      "\n",
      "Notes:\n",
      "[1] Standard Errors assume that the covariance matrix of the errors is correctly specified.\n"
     ]
    },
    {
     "data": {
      "image/png": "[encoded data removed]",
      "text/plain": [
       "<Figure size 640x480 with 1 Axes>"
      ]
     },
     "metadata": {},
     "output_type": "display_data"
    },
    {
     "name": "stdout",
     "output_type": "stream",
     "text": [
      "Коэффициент детерминации 0.6537623092130711\n",
      "Коэффициенты с их оценкой пи-значений:\n",
      "Константа: 2.4889855040610356 (p-значение: 4.683192599763964e-06)\n",
      "Рост: 0.7887847826586721 (p-значение: 1.908526131974702e-171)\n"
     ]
    }
   ],
   "source": [
    "data_sort_right = data.sort_values(by='Сила правой руки, кг')\n",
    "left = data_sort_right['Сила левой руки, кг'].to_numpy(dtype=float)\n",
    "right = data_sort_right['Сила правой руки, кг'].to_numpy(dtype=float)\n",
    "X1 = sm.add_constant(right)\n",
    "model = sm.OLS(left, X1)\n",
    "res = model.fit()\n",
    "print(res.summary())\n",
    "plt.scatter(right, left, label='data')\n",
    "plt.plot(right, res.fittedvalues, label='OLS', color='red')\n",
    "plt.legend()\n",
    "plt.show()\n",
    "print('Коэффициент детерминации', res.rsquared)\n",
    "print('Коэффициенты с их оценкой пи-значений:')\n",
    "names = ['Константа', 'Рост']\n",
    "for i in range(len(res.params)):\n",
    "    print(f\"{names[i]}: {res.params[i]} (p-значение: {res.pvalues[i]})\")\n"
   ]
  },
  {
   "cell_type": "markdown",
   "metadata": {},
   "source": [
    "Оценить пи-значение для этой модели на основании 20 000 стохастических моделирований."
   ]
  },
  {
   "cell_type": "code",
   "execution_count": 29,
   "metadata": {},
   "outputs": [
    {
     "name": "stdout",
     "output_type": "stream",
     "text": [
      "J_n = 0.6790928165562166\n",
      "upper_p_value = 0.7456984767262897\n",
      "Эмпирическое пи-значение = 0.3887\n"
     ]
    }
   ],
   "source": [
    "simple_regr_res=left-res.fittedvalues\n",
    "sum_regr_res=np.cumsum(simple_regr_res)\n",
    "sigma=np.std(simple_regr_res)\n",
    "emp_bridge=sum_regr_res/len(sum_regr_res)**0.5/sigma\n",
    "J=np.max(np.abs(emp_bridge))\n",
    "p_value=stats.kstwobign.sf(J)\n",
    "print('J_n =',J)\n",
    "print('upper_p_value =',p_value)\n",
    "\n",
    "n_iter=20000\n",
    "n=len(right)\n",
    "counter=0\n",
    "for i in range(n_iter):\n",
    "  Y_temp=stats.norm.rvs(0,1,n)*sigma+right\n",
    "  res=sm.OLS(Y_temp, X1).fit()\n",
    "  simple_regr_res=Y_temp-res.fittedvalues\n",
    "  sum_regr_res=np.cumsum(simple_regr_res)\n",
    "  emp_bridge=sum_regr_res/len(sum_regr_res)**0.5/np.std(simple_regr_res)\n",
    "  J_temp=np.max(np.abs(emp_bridge))\n",
    "  if J_temp>J:\n",
    "    counter+=1\n",
    "print('Эмпирическое пи-значение =',counter/n_iter)"
   ]
  }
 ],
 "metadata": {
  "kernelspec": {
   "display_name": "Python 3",
   "language": "python",
   "name": "python3"
  },
  "language_info": {
   "codemirror_mode": {
    "name": "ipython",
    "version": 3
   },
   "file_extension": ".py",
   "mimetype": "text/x-python",
   "name": "python",
   "nbconvert_exporter": "python",
   "pygments_lexer": "ipython3",
   "version": "3.12.5"
  }
 },
 "nbformat": 4,
 "nbformat_minor": 2
}
